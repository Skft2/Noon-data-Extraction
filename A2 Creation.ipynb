{
 "cells": [
  {
   "cell_type": "markdown",
   "id": "845f756b",
   "metadata": {},
   "source": [
    "## Importing Selenium"
   ]
  },
  {
   "cell_type": "code",
   "execution_count": null,
   "id": "e669fbc6",
   "metadata": {},
   "outputs": [],
   "source": [
    "\n",
    "from selenium import webdriver\n",
    "from selenium.webdriver.common.keys import Keys\n",
    "from selenium.webdriver.common.by import By\n",
    "from selenium.webdriver.support.ui import WebDriverWait as WD\n",
    "from selenium.webdriver.support import expected_conditions as EC\n",
    "import time\n"
   ]
  },
  {
   "cell_type": "markdown",
   "id": "6928f2e1",
   "metadata": {},
   "source": [
    "### Getting product url"
   ]
  },
  {
   "cell_type": "code",
   "execution_count": null,
   "id": "31604499",
   "metadata": {},
   "outputs": [],
   "source": [
    "driver = webdriver.Chrome(\"C:\\Program Files\\chromedriver_win32\\chromedriver.exe\")\n",
    "\n",
    "product_url = []\n",
    "def links():\n",
    "    link = driver.find_elements(By.XPATH, value='//span[@class=\"sc-5e739f1b-0 gEERDr wrapper productContainer  \"]/a[\"href\"]')\n",
    "    for i in link:\n",
    "        print(i.get_attribute('href'))\n",
    "        product_url.append(i.get_attribute('href'))\n",
    "\n",
    "for i in range(1,65):\n",
    "    url_main = f\"https://www.noon.com/egypt-en/sports-and-outdoors/exercise-and-fitness/yoga-16328/?limit=50&page={i}&sort%5Bby%5D=popularity&sort%5Bdir%5D=desc\"\n",
    "\n",
    "    driver.get(url_main)\n",
    "    time.sleep(1)\n",
    "    links()\n",
    "\n",
    "    \n",
    "\n",
    "print(len(product_url))\n",
    "driver.quit()"
   ]
  },
  {
   "cell_type": "markdown",
   "id": "670d2fd0",
   "metadata": {},
   "source": [
    "### Import Json, Requests\n"
   ]
  },
  {
   "cell_type": "markdown",
   "id": "5f086c5b",
   "metadata": {},
   "source": [
    "### Getting all the required data from each product url and making list."
   ]
  },
  {
   "cell_type": "code",
   "execution_count": null,
   "id": "bf30e698",
   "metadata": {},
   "outputs": [],
   "source": [
    "import json\n",
    "import requests\n",
    "\n",
    "\n",
    "sku = []\n",
    "position = []\n",
    "title = []\n",
    "brand = []\n",
    "rating = []\n",
    "rating_count = []\n",
    "currency = []\n",
    "seller = []\n",
    "partner_rating_value = []\n",
    "partner_rating_count = []\n",
    "price = []\n",
    "sales_price = []\n",
    "fdn = []\n",
    "for i in product_url:\n",
    "    response = requests.get(i)\n",
    "    data = json.loads(response.text.split('type=\"application/json\">')[1].split(\"</script>\")[0])\n",
    "    try:\n",
    "        sku.append(data['props']['pageProps']['catalog']['product']['sku'])\n",
    "    except:\n",
    "        sku.append(\"null\")\n",
    "\n",
    "    try:    \n",
    "        a = data['props']['pageProps']['catalog']['product']['breadcrumbs'][2]['name']\n",
    "        b = data['props']['pageProps']['catalog']['product']['breadcrumbs'][1]['name']\n",
    "        c = data['props']['pageProps']['catalog']['product']['breadcrumbs'][0]['name']\n",
    "        position.append(f'{a}/{b}/{c}/')\n",
    "    except:\n",
    "        position.append(\"null\")\n",
    "    try:\n",
    "        title.append(data['props']['pageProps']['catalog']['product']['product_title'])\n",
    "    except:\n",
    "        title.append(\"null\")\n",
    "    try:    \n",
    "        brand.append(data['props']['pageProps']['catalog']['product']['brand'])\n",
    "    except:\n",
    "        brand.append(\"null\")\n",
    "    try:\n",
    "        rating.append(data['props']['pageProps']['catalog']['product']['product_rating']['value'])\n",
    "    except:\n",
    "        rating.append(\"null\")\n",
    "    try:    \n",
    "        rating_count.append(data['props']['pageProps']['catalog']['product']['product_rating']['count'])\n",
    "    except:\n",
    "        rating_count.append(\"null\")\n",
    "    try:\n",
    "        currency.append(data['props']['pageProps']['webConfig']['country']['currency_code'])\n",
    "    except:\n",
    "        currency.append(\"null\")\n",
    "    try:    \n",
    "        seller.append(data['props']['pageProps']['catalog']['product']['variants'][0]['offers'][0]['store_name'])\n",
    "    except:\n",
    "        seller.appenr(\"null\")\n",
    "    try:    \n",
    "        partner_rating_value.append(data['props']['pageProps']['catalog']['product']['variants'][0]['offers'][0]['partner_ratings'][0]['value'])\n",
    "    except:\n",
    "        partner_rating_value.append(\"null\")\n",
    "    try:\n",
    "        partner_rating_count.append(data['props']['pageProps']['catalog']['product']['variants'][0]['offers'][0]['partner_ratings_sellerlab']['positive_seller_rating'])\n",
    "    except:\n",
    "        partner_rating_count.append(\"null\")\n",
    "    try:    \n",
    "        price.append(data['props']['pageProps']['catalog']['product']['variants'][0]['offers'][0]['price'])\n",
    "    except:\n",
    "        price.append(\"null\")\n",
    "    try:    \n",
    "        sales_price.append(data['props']['pageProps']['catalog']['product']['variants'][0]['offers'][0]['sale_price'])\n",
    "    except:\n",
    "        sales_price.append(\"null\")\n",
    "    try:    \n",
    "        fdn_1 = response.text.split('class=\"sc-b51db3f-1 bGljQY')[0].split(\"alt=\")[-1]\n",
    "        fdn.append(\"Express\" if fdn == \"noon-express\" else \"Market\")\n",
    "    except:\n",
    "        fdn.append(\"null\")\n",
    "\n",
    "\n"
   ]
  },
  {
   "cell_type": "markdown",
   "id": "f373f00b",
   "metadata": {},
   "source": [
    "### Import pandas"
   ]
  },
  {
   "cell_type": "markdown",
   "id": "1d46b503",
   "metadata": {},
   "source": [
    "### exporting to excel"
   ]
  },
  {
   "cell_type": "code",
   "execution_count": 68,
   "id": "89c2473a",
   "metadata": {},
   "outputs": [],
   "source": [
    "import pandas as pd\n",
    "\n",
    "my_data = {\n",
    "    'EAN/SKU' : sku,\n",
    "    'Position 1' : position,\n",
    "    'Name' : title,\n",
    "    'Brand' : brand,\n",
    "    'Average Rating' : rating,\n",
    "    'Rating Count' : rating_count,\n",
    "    'Currency' : currency,\n",
    "    'Store Name' : seller,\n",
    "    'Partner Rating Value' : partner_rating_value,\n",
    "    'Partner Rating Count' : partner_rating_count,\n",
    "    'Price' : price,\n",
    "    'Sales Price' : sales_price,\n",
    "    'FBN' : fdn,\n",
    "    'Link' : product_url\n",
    "}\n",
    "\n",
    "df = pd.DataFrame(my_data)\n",
    "df.to_excel('Extraction.xlsx',index=False,encoding='UTF-8')"
   ]
  },
  {
   "cell_type": "markdown",
   "id": "f2ebe651",
   "metadata": {},
   "source": [
    "### Most expensive product"
   ]
  },
  {
   "cell_type": "code",
   "execution_count": 73,
   "id": "bcf7f8a5",
   "metadata": {},
   "outputs": [
    {
     "data": {
      "text/plain": [
       "Price                          9999.0\n",
       "Name     yoga mat orange 173*61*0.6cm\n",
       "dtype: object"
      ]
     },
     "execution_count": 73,
     "metadata": {},
     "output_type": "execute_result"
    }
   ],
   "source": [
    "df[['Price','Name']].max()"
   ]
  },
  {
   "cell_type": "markdown",
   "id": "2f53acc5",
   "metadata": {},
   "source": [
    "### Cheapest Product"
   ]
  },
  {
   "cell_type": "code",
   "execution_count": 74,
   "id": "87f0d265",
   "metadata": {},
   "outputs": [
    {
     "data": {
      "text/plain": [
       "Price                                                 59.9\n",
       "Name     1-Piece Eva Foam Roller Floating Message Point...\n",
       "dtype: object"
      ]
     },
     "execution_count": 74,
     "metadata": {},
     "output_type": "execute_result"
    }
   ],
   "source": [
    "df[['Price','Name']].min()"
   ]
  },
  {
   "cell_type": "markdown",
   "id": "2d68e183",
   "metadata": {},
   "source": [
    "### Number of Products from Each brand"
   ]
  },
  {
   "cell_type": "code",
   "execution_count": 86,
   "id": "5b9c17ec",
   "metadata": {},
   "outputs": [
    {
     "name": "stdout",
     "output_type": "stream",
     "text": [
      "Athlete Home 61\n",
      "Spurt 20\n",
      "BODY SCULPTURE 10\n",
      "UFIT 8\n",
      "TOEON 1\n",
      "Suria 1\n",
      "Prickly Pear 1\n",
      "Generic 3012\n",
      "Gymbit 5\n",
      "Liveup 5\n",
      "LIXADA 2\n",
      "body heart 5\n",
      "SportQ 10\n",
      "Mesuca 2\n",
      "kings 1\n",
      "Fitness 2\n",
      "Umiwin 2\n",
      "Sports 1\n",
      "TPE 2\n",
      "Miniso 1\n",
      "DECATHLON 1\n",
      "Emfil 11\n",
      "Cactus Fitness 1\n",
      "SUNEX 1\n",
      "VTC 1\n",
      "Spall 1\n",
      "HEATS 1\n",
      "yoga mat 1\n",
      "Fitness World 3\n",
      "FITNESS MINUTES 1\n",
      "SkyLand 1\n",
      "Alpha 6\n",
      "ProSource 2\n",
      "Top Skyland 1\n",
      "Tasheng 1\n",
      "Revoflex 1\n",
      "Winmax 1\n",
      "TA SPORT 1\n",
      "Sharpdo 1\n",
      "Pro Hanson 1\n",
      "DENGKE 1\n",
      "ALEESH 1\n",
      "Fitness Max 1\n",
      "JOINFIT 5\n",
      "Live Up 1\n",
      "PUMA 1\n"
     ]
    }
   ],
   "source": [
    "br = df['Brand'].unique()\n",
    "br\n",
    "for i in br:\n",
    "    print(i,df[df['Brand']==i].count()['Name'])"
   ]
  },
  {
   "cell_type": "markdown",
   "id": "5c98a7d4",
   "metadata": {},
   "source": [
    "### Number of Products by Each seller"
   ]
  },
  {
   "cell_type": "code",
   "execution_count": 88,
   "id": "a12e07f7",
   "metadata": {},
   "outputs": [
    {
     "name": "stdout",
     "output_type": "stream",
     "text": [
      "Athlete Home 64\n",
      "noon 22\n",
      "Kanteen.store 499\n",
      "Happy shopping 9\n",
      "AL Hayat 12\n",
      "vogue 1\n",
      "Brenda Box 8\n",
      "RED MOON 17\n",
      "Bekstore 17\n",
      "Alfayez sports 73\n",
      "Vision Technology 12\n",
      "Souqegypt 2366\n",
      "Rustomart 1\n",
      "Md.gymwear 6\n",
      "El asdekaa 1\n",
      "Decathlon 1\n",
      "Cactus Fitness 1\n",
      "SOFT CARE 11\n",
      "El3alamia 3\n",
      "Al Abd Sports 6\n",
      "TBE 21\n",
      "golden2market 13\n",
      "Sports Mall 5\n",
      "Rest Store 1\n",
      "Alpha 6\n",
      "M.store 3\n",
      "Infinity 3\n",
      "Brand House 2\n",
      "Entercise 5\n",
      "Prime 1\n",
      "Hanso 1\n",
      "Rawagstore 2\n",
      "Lynks 1\n",
      "Golden Goals 1\n",
      "Fekra Store 2\n",
      "ElAraby 1\n",
      "Spectrum Spike 1\n",
      "Elmasria-Store 1\n"
     ]
    }
   ],
   "source": [
    "dr = df['Store Name'].unique()\n",
    "for i in dr:\n",
    "    print(i,df[df['Store Name']==i].count()['Name'])"
   ]
  },
  {
   "cell_type": "markdown",
   "id": "3cdd616d",
   "metadata": {},
   "source": [
    "\n"
   ]
  },
  {
   "cell_type": "markdown",
   "id": "726a20e7",
   "metadata": {},
   "source": [
    "## Average price Brand wise"
   ]
  },
  {
   "cell_type": "code",
   "execution_count": null,
   "id": "6d8188a4",
   "metadata": {},
   "outputs": [],
   "source": [
    "br = df['Brand'].unique()\n",
    "for i in br:\n",
    "    print(i,df[df['Brand']==i].mean()['Price'])"
   ]
  },
  {
   "cell_type": "raw",
   "id": "ab1a90c4",
   "metadata": {},
   "source": [
    "Athlete Home 394.5016393442623\n",
    "Spurt 256.85\n",
    "BODY SCULPTURE 600.6\n",
    "UFIT 350.64375\n",
    "TOEON 160.0\n",
    "Suria 80.0\n",
    "Prickly Pear 999.0\n",
    "Generic 322.65006640105884\n",
    "Gymbit 268.8\n",
    "Liveup 380.6\n",
    "LIXADA 309.0\n",
    "body heart 242.5\n",
    "SportQ 224.2\n",
    "Mesuca 239.5\n",
    "kings 219.0\n",
    "Fitness 325.0\n",
    "Umiwin 257.0\n",
    "Sports 250.0\n",
    "TPE 299.5\n",
    "Miniso 190.0\n",
    "DECATHLON 1099.0\n",
    "Emfil 263.65909090909093\n",
    "Cactus Fitness 368.0\n",
    "SUNEX 169.0\n",
    "VTC 169.0\n",
    "Spall 219.0\n",
    "HEATS 145.0\n",
    "yoga mat 193.0\n",
    "Fitness World 324.6666666666667\n",
    "FITNESS MINUTES 1350.0\n",
    "SkyLand 319.0\n",
    "Alpha 1250.0\n",
    "ProSource 300.0\n",
    "Top Skyland 380.0\n",
    "Tasheng 259.0\n",
    "Revoflex 300.0\n",
    "Winmax 290.0\n",
    "TA SPORT 250.0\n",
    "Sharpdo 499.0\n",
    "Pro Hanson 250.0\n",
    "DENGKE 199.0\n",
    "ALEESH 341.85\n",
    "Fitness Max 259.0\n",
    "JOINFIT 1882.0\n",
    "Live Up 998.0\n",
    "PUMA 2379.0"
   ]
  },
  {
   "cell_type": "code",
   "execution_count": null,
   "id": "44b314c7",
   "metadata": {},
   "outputs": [],
   "source": []
  }
 ],
 "metadata": {
  "kernelspec": {
   "display_name": "Python 3 (ipykernel)",
   "language": "python",
   "name": "python3"
  },
  "language_info": {
   "codemirror_mode": {
    "name": "ipython",
    "version": 3
   },
   "file_extension": ".py",
   "mimetype": "text/x-python",
   "name": "python",
   "nbconvert_exporter": "python",
   "pygments_lexer": "ipython3",
   "version": "3.9.13"
  }
 },
 "nbformat": 4,
 "nbformat_minor": 5
}
